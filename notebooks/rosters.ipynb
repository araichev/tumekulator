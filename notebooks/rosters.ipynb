{
 "cells": [
  {
   "cell_type": "code",
   "execution_count": 1,
   "metadata": {},
   "outputs": [],
   "source": [
    "from pathlib import Path\n",
    "import datetime as dt\n",
    "from dateutil.relativedelta import relativedelta\n",
    "\n",
    "import pandas as pd\n",
    "import numpy as np\n",
    "\n",
    "\n",
    "OUT_DIR = Path('../output')"
   ]
  },
  {
   "cell_type": "code",
   "execution_count": 4,
   "metadata": {},
   "outputs": [],
   "source": [
    "def build_roster(year, month, volunteers_by_weekday, meeting_time=None):\n",
    "    \"\"\"\n",
    "    Given a year (integer) and a month (integer), build the roster for\n",
    "    that year and month as a DataFrame with the columns\n",
    "    \n",
    "    - date: date of a shift\n",
    "    - weekday: weekday of the shift, e.g. 'Sunday'\n",
    "    - volunteers: names of volunteers working the shift\n",
    "    - notes: any notes about the shift\n",
    "    \n",
    "    Give a dictionary of volunteers by weekday to seed the roster, \n",
    "    e.g. ``{'Thursday': ['Tommy', 'Etienne'], 'Sunday': ['?', '?']}``.\n",
    "    Optionally specify a time for the monthly meeting, e\n",
    "    e.g. ``('Sunday', 1, '15:00', '16:00')`` for the first Sunday of the month\n",
    "    during 15:00--16:00.\n",
    "    \"\"\"\n",
    "    # Create a roster for every day of the month\n",
    "    d1 = dt.date(year, month, 1)\n",
    "    d2 = d1 + relativedelta(months=1)\n",
    "    ix = pd.date_range(d1, d2, closed='left')\n",
    "    f = pd.DataFrame(index=ix)\n",
    "    f['date'] = f.index.strftime('%Y-%m-%d')\n",
    "    f['weekday'] = f.index.day_name()\n",
    "    \n",
    "    # Keep only the days specified by ``volunteers_by_weekday``\n",
    "    cond = f['weekday'].isin(volunteers_by_weekday.keys())\n",
    "    f = f[cond].copy()\n",
    "\n",
    "    # Assign volunteers\n",
    "    f['volunteers'] = f['weekday'].map(lambda x:\n",
    "      ' & '.join(volunteers_by_weekday[x]))\n",
    "    \n",
    "    # Add notes, including staff meeting.\n",
    "    f['notes'] = ''\n",
    "    if meeting_time is not None:\n",
    "        cond = f['weekday'] == meeting_time[0]\n",
    "        cond &= f.index.day >= 7*(meeting_time[1] - 1)\n",
    "        cond &= f.index.day <= 7*meeting_time[1]\n",
    "        f.loc[cond, 'notes'] = 'Staff meeting {!s}--{!s}'.format(*meeting_time[2:])\n",
    "    \n",
    "    return f.reset_index(drop=True)\n",
    "\n",
    "def get_year_month(roster, format=\"%Y%m\"):\n",
    "    \"\"\"\n",
    "    Given a roster, return the year and month it pertains to \n",
    "    in the given format.\n",
    "    \"\"\"\n",
    "    return pd.to_datetime(roster['date']).dt.strftime(format).iat[0]\n",
    "\n",
    "def to_markdown(f, path=None):\n",
    "    \"\"\"\n",
    "    Given DataFrame, return its corresponding Markdown table (string).\n",
    "    If a path is given (string or Path object), then instead save the\n",
    "    Markdown table to a Markdown file located at the path.\n",
    "    \"\"\"\n",
    "    if path is not None:\n",
    "        # Make path parent directory if it doesn't exist\n",
    "        path = Path(path)\n",
    "        if not path.parent.exists():\n",
    "            path.parent.mkdir(parents=True)\n",
    "    \n",
    "    cols = f.columns\n",
    "\n",
    "    # Create a new DataFrame with just the markdown table line\n",
    "    header = pd.DataFrame([['---',]*len(cols)], columns=cols)\n",
    "\n",
    "    # Create a new concatenated DataFrame\n",
    "    g = pd.concat([header, f])\n",
    "\n",
    "    # Save or return Markdown\n",
    "    if path is not None:\n",
    "        g.to_csv(path, sep=\"|\", index=False)\n",
    "    else:\n",
    "        return g.to_csv(sep=\"|\", index=False)\n"
   ]
  },
  {
   "cell_type": "code",
   "execution_count": 7,
   "metadata": {
    "scrolled": false
   },
   "outputs": [
    {
     "name": "stdout",
     "output_type": "stream",
     "text": [
      "         date weekday volunteers notes\n",
      "0  2021-01-03  Sunday      ? & ?      \n",
      "1  2021-01-10  Sunday      ? & ?      \n",
      "2  2021-01-17  Sunday      ? & ?      \n",
      "3  2021-01-24  Sunday      ? & ?      \n",
      "4  2021-01-31  Sunday      ? & ?      \n"
     ]
    }
   ],
   "source": [
    "# Make roster and print for visual check\n",
    "\n",
    "volunteers_by_weekday = {\n",
    "    'Sunday': ['?', '?'],\n",
    "}\n",
    "\n",
    "roster = build_roster(2021, 1, volunteers_by_weekday)\n",
    "print(roster)"
   ]
  },
  {
   "cell_type": "code",
   "execution_count": 8,
   "metadata": {},
   "outputs": [
    {
     "name": "stdout",
     "output_type": "stream",
     "text": [
      "date|weekday|volunteers|notes\n",
      "---|---|---|---\n",
      "2021-01-03|Sunday|? & ?|\n",
      "2021-01-10|Sunday|? & ?|\n",
      "2021-01-17|Sunday|? & ?|\n",
      "2021-01-24|Sunday|? & ?|\n",
      "2021-01-31|Sunday|? & ?|\n",
      "\n"
     ]
    }
   ],
   "source": [
    "# Print roster as Markdown for Loomio\n",
    "\n",
    "roster_md = to_markdown(roster)\n",
    "print(roster_md)\n",
    "\n",
    "# # Write Markdown roster to file\n",
    "# path = OUT_DIR/'rosterio_{!s}'.format(get_year_month(roster))\n",
    "# to_markdown(roster, path)"
   ]
  },
  {
   "cell_type": "code",
   "execution_count": null,
   "metadata": {
    "collapsed": true
   },
   "outputs": [],
   "source": []
  }
 ],
 "metadata": {
  "kernelspec": {
   "display_name": "Python 3",
   "language": "python",
   "name": "python3"
  },
  "language_info": {
   "codemirror_mode": {
    "name": "ipython",
    "version": 3
   },
   "file_extension": ".py",
   "mimetype": "text/x-python",
   "name": "python",
   "nbconvert_exporter": "python",
   "pygments_lexer": "ipython3",
   "version": "3.8.5"
  }
 },
 "nbformat": 4,
 "nbformat_minor": 1
}
