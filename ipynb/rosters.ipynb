{
 "cells": [
  {
   "cell_type": "code",
   "execution_count": 1,
   "metadata": {
    "collapsed": true
   },
   "outputs": [],
   "source": [
    "from pathlib import Path\n",
    "import datetime as dt\n",
    "from dateutil.relativedelta import relativedelta\n",
    "\n",
    "import pandas as pd\n",
    "import numpy as np\n",
    "\n",
    "OUT_DIR = Path('../output')"
   ]
  },
  {
   "cell_type": "code",
   "execution_count": 2,
   "metadata": {
    "collapsed": true
   },
   "outputs": [],
   "source": [
    "BLANK = '?'\n",
    "VOLUNTEERS_BY_WEEKDAY = {\n",
    "    'Wednesday': ['Tommy', 'Etienne'],\n",
    "    'Thursday': ['Sanna', 'Finlay'],\n",
    "    'Sunday': ['Alex M', BLANK],\n",
    "    }\n",
    "MEETING_TIME_U = ('Sunday', 1, '15:00', '16:00')\n",
    "MEETING_TIME_W = ('Wednesday', 1, '19:30', '20:30')\n",
    "MEETING_TIME_R = ('Thursday', 1, '19:30', '20:30')\n",
    "\n",
    "def build_roster(year, month, volunteers_by_weekday=VOLUNTEERS_BY_WEEKDAY, \n",
    "  meeting_time=None, blank=BLANK):\n",
    "    \"\"\"\n",
    "    Given a year (integer) and a month (integer), build the roster for\n",
    "    that year and month as a DataFrame with the columns\n",
    "    \n",
    "    - date: date of a shift\n",
    "    - weekday: weekday of the shift, e.g. 'Sunday'\n",
    "    - volunteers: names of volunteers working the shift\n",
    "    - notes: any notes about the shift\n",
    "    \n",
    "    Also give a dictionary of volunteers by weekday (see example above)\n",
    "    to seed the roster and a optionally a meeting time (see example above).\n",
    "    \"\"\"\n",
    "    # Create roster dates\n",
    "    d1 = dt.date(year, month, 1)\n",
    "    d2 = d1 + relativedelta(months=1)\n",
    "    ix = pd.date_range(d1, d2, closed='left')\n",
    "    f = pd.DataFrame(index=ix)\n",
    "    f['date'] = f.index.strftime('%Y-%m-%d')\n",
    "    f['weekday'] = f.index.weekday_name\n",
    "    \n",
    "    # Assign volunteers\n",
    "    f['volunteers'] = f['weekday'].map(lambda x:\n",
    "      ' & '.join(volunteers_by_weekday.get(x, [BLANK, BLANK])))\n",
    "    \n",
    "    # Restrict to given weekdays\n",
    "    cond = f['weekday'].isin(volunteers_by_weekday.keys())\n",
    "    f = f[cond].copy()\n",
    "    \n",
    "    # Add notes, including staff meeting.\n",
    "    f['notes'] = ''\n",
    "    if meeting_time is not None:\n",
    "        cond = f['weekday'] == meeting_time[0]\n",
    "        cond &= f.index.day >= 7*(meeting_time[1] - 1)\n",
    "        cond &= f.index.day <= 7*meeting_time[1]\n",
    "        f.loc[cond, 'notes'] = 'Staff meeting {!s}--{!s}'.format(*meeting_time[2:])\n",
    "    \n",
    "    return f.reset_index(drop=True)\n",
    "\n",
    "def get_year_month(roster, format=\"%Y%m\"):\n",
    "    \"\"\"\n",
    "    Given a roster, return the year and month it pertains to \n",
    "    in the given format.\n",
    "    \"\"\"\n",
    "    return pd.to_datetime(roster['date']).dt.strftime(format).iat[0]\n",
    "\n",
    "def to_markdown(df, path):\n",
    "    \"\"\"\n",
    "    Save the given data frame as a Markdown table located\n",
    "    at the given path.\n",
    "    \"\"\"\n",
    "    path = Path(path)\n",
    "    if not path.parent.exists():\n",
    "        path.parent.mkdir(parents=True)\n",
    "    \n",
    "    # Get column names\n",
    "    cols = df.columns\n",
    "\n",
    "    # Create a new DataFrame with just the markdown\n",
    "    # strings\n",
    "    df2 = pd.DataFrame([['---',]*len(cols)], columns=cols)\n",
    "\n",
    "    #Create a new concatenated DataFrame\n",
    "    df3 = pd.concat([df2, df])\n",
    "\n",
    "    #Save as markdown\n",
    "    df3.to_csv(str(path), sep=\"|\", index=False)\n"
   ]
  },
  {
   "cell_type": "code",
   "execution_count": 3,
   "metadata": {
    "scrolled": false
   },
   "outputs": [
    {
     "name": "stdout",
     "output_type": "stream",
     "text": [
      "          date    weekday       volunteers notes\n",
      "0   2017-11-01  Wednesday  Tommy & Etienne      \n",
      "1   2017-11-02   Thursday   Sanna & Finlay      \n",
      "2   2017-11-05     Sunday       Alex M & ?      \n",
      "3   2017-11-08  Wednesday  Tommy & Etienne      \n",
      "4   2017-11-09   Thursday   Sanna & Finlay      \n",
      "5   2017-11-12     Sunday       Alex M & ?      \n",
      "6   2017-11-15  Wednesday  Tommy & Etienne      \n",
      "7   2017-11-16   Thursday   Sanna & Finlay      \n",
      "8   2017-11-19     Sunday       Alex M & ?      \n",
      "9   2017-11-22  Wednesday  Tommy & Etienne      \n",
      "10  2017-11-23   Thursday   Sanna & Finlay      \n",
      "11  2017-11-26     Sunday       Alex M & ?      \n",
      "12  2017-11-29  Wednesday  Tommy & Etienne      \n",
      "13  2017-11-30   Thursday   Sanna & Finlay      \n"
     ]
    }
   ],
   "source": [
    "roster = build_roster(2017, 11, meeting_time=None)\n",
    "print(roster)\n",
    "\n",
    "date = get_year_month(roster)\n",
    "path = OUT_DIR/'roster_{!s}.md'.format(date)\n",
    "to_markdown(roster, path)"
   ]
  },
  {
   "cell_type": "code",
   "execution_count": null,
   "metadata": {
    "collapsed": true
   },
   "outputs": [],
   "source": []
  },
  {
   "cell_type": "code",
   "execution_count": null,
   "metadata": {
    "collapsed": true
   },
   "outputs": [],
   "source": []
  }
 ],
 "metadata": {
  "kernelspec": {
   "display_name": "Python 3",
   "language": "python",
   "name": "python3"
  },
  "language_info": {
   "codemirror_mode": {
    "name": "ipython",
    "version": 3
   },
   "file_extension": ".py",
   "mimetype": "text/x-python",
   "name": "python",
   "nbconvert_exporter": "python",
   "pygments_lexer": "ipython3",
   "version": "3.5.2"
  }
 },
 "nbformat": 4,
 "nbformat_minor": 1
}
