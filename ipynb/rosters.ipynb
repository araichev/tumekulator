{
 "cells": [
  {
   "cell_type": "code",
   "execution_count": 1,
   "metadata": {},
   "outputs": [],
   "source": [
    "from pathlib import Path\n",
    "import datetime as dt\n",
    "from dateutil.relativedelta import relativedelta\n",
    "\n",
    "import pandas as pd\n",
    "import numpy as np\n",
    "\n",
    "OUT_DIR = Path('../output')"
   ]
  },
  {
   "cell_type": "code",
   "execution_count": 6,
   "metadata": {},
   "outputs": [],
   "source": [
    "BLANK = '?'\n",
    "VOLUNTEERS_BY_WEEKDAY = {\n",
    "    'Thursday': ['Tommy', 'Etienne'],\n",
    "    'Sunday': ['Alex M', BLANK],\n",
    "    }\n",
    "MEETING_TIME_U = ('Sunday', 1, '15:00', '16:00')\n",
    "MEETING_TIME_W = ('Wednesday', 1, '19:30', '20:30')\n",
    "MEETING_TIME_R = ('Thursday', 1, '19:30', '20:30')\n",
    "\n",
    "def build_roster(year, month, volunteers_by_weekday=VOLUNTEERS_BY_WEEKDAY, \n",
    "  meeting_time=None, blank=BLANK):\n",
    "    \"\"\"\n",
    "    Given a year (integer) and a month (integer), build the roster for\n",
    "    that year and month as a DataFrame with the columns\n",
    "    \n",
    "    - date: date of a shift\n",
    "    - weekday: weekday of the shift, e.g. 'Sunday'\n",
    "    - volunteers: names of volunteers working the shift\n",
    "    - notes: any notes about the shift\n",
    "    \n",
    "    Give a dictionary of volunteers by weekday to seed the roster.\n",
    "    Optionally specify a time for the monthly meeting.\n",
    "    \"\"\"\n",
    "    # Create roster dates\n",
    "    d1 = dt.date(year, month, 1)\n",
    "    d2 = d1 + relativedelta(months=1)\n",
    "    ix = pd.date_range(d1, d2, closed='left')\n",
    "    f = pd.DataFrame(index=ix)\n",
    "    f['date'] = f.index.strftime('%Y-%m-%d')\n",
    "    f['weekday'] = f.index.weekday_name\n",
    "    \n",
    "    # Assign volunteers\n",
    "    f['volunteers'] = f['weekday'].map(lambda x:\n",
    "      ' & '.join(volunteers_by_weekday.get(x, [BLANK, BLANK])))\n",
    "    \n",
    "    # Restrict to given weekdays\n",
    "    cond = f['weekday'].isin(volunteers_by_weekday.keys())\n",
    "    f = f[cond].copy()\n",
    "    \n",
    "    # Add notes, including staff meeting.\n",
    "    f['notes'] = ''\n",
    "    if meeting_time is not None:\n",
    "        cond = f['weekday'] == meeting_time[0]\n",
    "        cond &= f.index.day >= 7*(meeting_time[1] - 1)\n",
    "        cond &= f.index.day <= 7*meeting_time[1]\n",
    "        f.loc[cond, 'notes'] = 'Staff meeting {!s}--{!s}'.format(*meeting_time[2:])\n",
    "    \n",
    "    return f.reset_index(drop=True)\n",
    "\n",
    "def get_year_month(roster, format=\"%Y%m\"):\n",
    "    \"\"\"\n",
    "    Given a roster, return the year and month it pertains to \n",
    "    in the given format.\n",
    "    \"\"\"\n",
    "    return pd.to_datetime(roster['date']).dt.strftime(format).iat[0]\n",
    "\n",
    "def to_markdown(df, path=None):\n",
    "    \"\"\"\n",
    "    Given DataFrame, return its corresponding Markdown table (string).\n",
    "    If a path is given (string or Path object), then instead save the\n",
    "    Markdown table to a Markdown file located at the path.\n",
    "    \"\"\"\n",
    "    if path is not None:\n",
    "        path = Path(path)\n",
    "        if not path.parent.exists():\n",
    "            path.parent.mkdir(parents=True)\n",
    "    \n",
    "    # Get column names\n",
    "    cols = df.columns\n",
    "\n",
    "    # Create a new DataFrame with just the markdown\n",
    "    # strings\n",
    "    df2 = pd.DataFrame([['---',]*len(cols)], columns=cols)\n",
    "\n",
    "    #Create a new concatenated DataFrame\n",
    "    df3 = pd.concat([df2, df])\n",
    "\n",
    "    #Save as markdown\n",
    "    if path is not None:\n",
    "        df3.to_csv(path, sep=\"|\", index=False)\n",
    "    else:\n",
    "        return df3.to_csv(sep=\"|\", index=False)\n"
   ]
  },
  {
   "cell_type": "code",
   "execution_count": 8,
   "metadata": {
    "scrolled": false
   },
   "outputs": [
    {
     "name": "stdout",
     "output_type": "stream",
     "text": [
      "         date   weekday       volunteers notes\n",
      "0  2018-01-04  Thursday  Tommy & Etienne      \n",
      "1  2018-01-07    Sunday       Alex M & ?      \n",
      "2  2018-01-11  Thursday  Tommy & Etienne      \n",
      "3  2018-01-14    Sunday       Alex M & ?      \n",
      "4  2018-01-18  Thursday  Tommy & Etienne      \n",
      "5  2018-01-21    Sunday       Alex M & ?      \n",
      "6  2018-01-25  Thursday  Tommy & Etienne      \n",
      "7  2018-01-28    Sunday       Alex M & ?      \n"
     ]
    },
    {
     "data": {
      "text/plain": [
       "'date|weekday|volunteers|notes\\n---|---|---|---\\n2018-01-04|Thursday|Tommy & Etienne|\\n2018-01-07|Sunday|Alex M & ?|\\n2018-01-11|Thursday|Tommy & Etienne|\\n2018-01-14|Sunday|Alex M & ?|\\n2018-01-18|Thursday|Tommy & Etienne|\\n2018-01-21|Sunday|Alex M & ?|\\n2018-01-25|Thursday|Tommy & Etienne|\\n2018-01-28|Sunday|Alex M & ?|\\n'"
      ]
     },
     "execution_count": 8,
     "metadata": {},
     "output_type": "execute_result"
    }
   ],
   "source": [
    "roster = build_roster(2018, 1, meeting_time=None)\n",
    "print(roster)\n",
    "\n",
    "date = get_year_month(roster)\n",
    "path = OUT_DIR/'roster_{!s}.md'.format(date)\n",
    "to_markdown(roster, path)\n"
   ]
  },
  {
   "cell_type": "code",
   "execution_count": null,
   "metadata": {
    "collapsed": true
   },
   "outputs": [],
   "source": []
  },
  {
   "cell_type": "code",
   "execution_count": null,
   "metadata": {
    "collapsed": true
   },
   "outputs": [],
   "source": []
  }
 ],
 "metadata": {
  "kernelspec": {
   "display_name": "Python 3",
   "language": "python",
   "name": "python3"
  },
  "language_info": {
   "codemirror_mode": {
    "name": "ipython",
    "version": 3
   },
   "file_extension": ".py",
   "mimetype": "text/x-python",
   "name": "python",
   "nbconvert_exporter": "python",
   "pygments_lexer": "ipython3",
   "version": "3.5.2"
  }
 },
 "nbformat": 4,
 "nbformat_minor": 1
}
