{
 "cells": [
  {
   "cell_type": "code",
   "execution_count": 1,
   "metadata": {
    "collapsed": false
   },
   "outputs": [],
   "source": [
    "from collections import OrderedDict\n",
    "import datetime as dt\n",
    "from pathlib import Path\n",
    "\n",
    "import pandas as pd\n",
    "import numpy as np\n",
    "from highcharts import Highchart\n",
    "\n"
   ]
  },
  {
   "cell_type": "code",
   "execution_count": null,
   "metadata": {
    "collapsed": false
   },
   "outputs": [],
   "source": [
    "# Load real data\n",
    "\n",
    "DATA_DIR = Path('~')/'tumeke_cycle_space'/'finances'\n",
    "paths = [\n",
    "    'transactions_20140701--20150630.csv',\n",
    "    'transactions_20150701--20160630.csv',\n",
    "    'transactions_20160701--20161130.csv'\n",
    "    ]\n",
    "paths = [DATA_DIR/p for p in paths]\n",
    "parser = lambda date: pd.datetime.strptime(date, '%d-%m-%Y')\n",
    "frames = [pd.read_csv(p, parse_dates=['Date'], date_parser=parser)\n",
    "  for p in paths]\n",
    "f = pd.concat(frames)\n",
    "\n",
    "# Rename columns for convenience\n",
    "columns1 = {\n",
    "  c: c.lower().strip().replace(' ', '_').replace('(', '').replace(')', '')\n",
    "  for c in f.columns\n",
    "  }\n",
    "columns2 = {\n",
    "  'memo/description': 'memo',\n",
    "  'amount_credit': 'credit',\n",
    "  'amount_debit': 'debit',\n",
    "  }\n",
    "transactions = f.rename(columns=columns1).rename(columns=columns2)\n",
    "transactions.tail().T\n"
   ]
  },
  {
   "cell_type": "code",
   "execution_count": 2,
   "metadata": {
    "collapsed": false
   },
   "outputs": [
    {
     "data": {
      "text/html": [
       "<div>\n",
       "<table border=\"1\" class=\"dataframe\">\n",
       "  <thead>\n",
       "    <tr style=\"text-align: right;\">\n",
       "      <th></th>\n",
       "      <th>date</th>\n",
       "      <th>credit</th>\n",
       "      <th>debit</th>\n",
       "      <th>balance</th>\n",
       "    </tr>\n",
       "  </thead>\n",
       "  <tbody>\n",
       "    <tr>\n",
       "      <th>239</th>\n",
       "      <td>2016-12-18</td>\n",
       "      <td>0</td>\n",
       "      <td>46</td>\n",
       "      <td>-251</td>\n",
       "    </tr>\n",
       "    <tr>\n",
       "      <th>240</th>\n",
       "      <td>2016-12-21</td>\n",
       "      <td>38</td>\n",
       "      <td>65</td>\n",
       "      <td>-278</td>\n",
       "    </tr>\n",
       "    <tr>\n",
       "      <th>241</th>\n",
       "      <td>2016-12-24</td>\n",
       "      <td>52</td>\n",
       "      <td>88</td>\n",
       "      <td>-314</td>\n",
       "    </tr>\n",
       "    <tr>\n",
       "      <th>242</th>\n",
       "      <td>2016-12-27</td>\n",
       "      <td>53</td>\n",
       "      <td>52</td>\n",
       "      <td>-313</td>\n",
       "    </tr>\n",
       "    <tr>\n",
       "      <th>243</th>\n",
       "      <td>2016-12-30</td>\n",
       "      <td>67</td>\n",
       "      <td>52</td>\n",
       "      <td>-298</td>\n",
       "    </tr>\n",
       "  </tbody>\n",
       "</table>\n",
       "</div>"
      ],
      "text/plain": [
       "          date  credit  debit  balance\n",
       "239 2016-12-18       0     46     -251\n",
       "240 2016-12-21      38     65     -278\n",
       "241 2016-12-24      52     88     -314\n",
       "242 2016-12-27      53     52     -313\n",
       "243 2016-12-30      67     52     -298"
      ]
     },
     "execution_count": 2,
     "metadata": {},
     "output_type": "execute_result"
    }
   ],
   "source": [
    "# Or load mock data\n",
    "\n",
    "def make_sample_transactions(start_date, end_date):\n",
    "    r = pd.date_range(start_date, end_date, freq='3D')\n",
    "    f = pd.DataFrame(r, columns=['date'])\n",
    "    n = len(r)\n",
    "    f['credit'] = np.random.randint(0, 100, n)\n",
    "    f['debit'] = np.random.randint(0, 100, n)\n",
    "    f['balance'] = (f['credit'] - f['debit']).cumsum()\n",
    "    return f\n",
    "\n",
    "transactions = make_sample_transactions('2015-01-01', '2017-01-01')\n",
    "transactions.tail()"
   ]
  },
  {
   "cell_type": "code",
   "execution_count": 11,
   "metadata": {
    "collapsed": false
   },
   "outputs": [],
   "source": [
    "def summarize(transactions, freq='MS'):\n",
    "    \"\"\"\n",
    "    Given a data frame of bank transactions with at least the columns\n",
    "    \n",
    "    - ``'date'``: datetime\n",
    "    - ``'credit'``: nonnegative float\n",
    "    - ``'debit'``: nonnegative float\n",
    "    - ``'balance'``: float\n",
    "    \n",
    "    summarize the transactions at the given frequency (Pandas frequency string),\n",
    "    summing credits, summing debits, and taking the last balance for each period.\n",
    "    Return the resulting data frame.\n",
    "    \"\"\"\n",
    "    cols = ['date', 'credit', 'debit', 'balance'] \n",
    "    f = transactions[cols].copy()\n",
    "    if freq is None:\n",
    "        g = {}\n",
    "        g['date'] = f['date'].min()\n",
    "        g['credit'] = f['credit'].sum()\n",
    "        g['debit'] = f['debit'].sum()\n",
    "        g['balance'] = f['balance'].iat[-1]\n",
    "        g = pd.DataFrame(g, index=[0])\n",
    "    else:\n",
    "        g = f.set_index('date').resample(freq).agg({\n",
    "          'credit': 'sum',\n",
    "          'debit': 'sum',\n",
    "          'balance': 'last', \n",
    "          }).fillna(0).reset_index()\n",
    "    \n",
    "    return g[cols].copy()\n",
    "\n",
    "def plot(summary, currency='NZD', width=700, height=None):\n",
    "    \"\"\"\n",
    "    Given a transaction summary of the form output by :func:`summarize`,\n",
    "    plot the summary using Python HighCharts.\n",
    "    Include the given currency units (string; e.g. 'NZD') in the plot labels.\n",
    "    \"\"\"\n",
    "    f = summary.copy()\n",
    "    chart = Highchart()\n",
    "\n",
    "    # HighCharts kludge: use categorical x-axis to display dates properly\n",
    "    dates = f['date'].map(lambda x:x.strftime('%Y-%m-%d')).unique()\n",
    "    dates = sorted(dates.tolist())\n",
    "\n",
    "    if currency:\n",
    "        y_text = 'Money ({!s})'.format(currency)\n",
    "    else:\n",
    "        y_text = 'Money'\n",
    "    \n",
    "    options = {\n",
    "        'lang': {\n",
    "            'thousandsSep': ','\n",
    "        },\n",
    "        'chart' : {},\n",
    "        'title': {\n",
    "            'text': 'Account Summary'\n",
    "        },\n",
    "        'xAxis': {\n",
    "            'type': 'category',\n",
    "            'categories': dates,\n",
    "        },\n",
    "        'yAxis': {\n",
    "            'title': {\n",
    "                'text': y_text,\n",
    "            }\n",
    "        },\n",
    "        'tooltip': {\n",
    "            'headerFormat': '<b>{point.key}</b> ' +\n",
    "              '(period start)<table>',\n",
    "            'pointFormat': '''\n",
    "              <tr>\n",
    "              <td style=\"padding-right:1em\">{series.name}</td>\n",
    "              <td style=\"text-align:right\">{point.y:,.0f} ''' + currency +\\\n",
    "              '''\n",
    "              </td>\n",
    "              </tr>\n",
    "              ''',    \n",
    "            'useHTML': True,\n",
    "            'shared': True,\n",
    "        },\n",
    "        'plotOptions': {\n",
    "            'column': {\n",
    "                'pointPadding': 0,\n",
    "                'borderWidth': 1,\n",
    "                'borderColor': '#333333',\n",
    "            }\n",
    "        },\n",
    "        'credits': {\n",
    "                'enabled': False,\n",
    "            },\n",
    "    }\n",
    "\n",
    "    if width is not None:\n",
    "        options['chart']['width'] = width\n",
    "\n",
    "    if height is not None:\n",
    "        options['chart']['height'] = height\n",
    "\n",
    "    chart.set_dict_options(options)\n",
    "    for (col, opts) in [\n",
    "      ('credit', {'series_type': 'column', 'color': '#8da0cb'}),\n",
    "      ('debit', {'series_type': 'column', 'color': '#fc8d62'}),\n",
    "      ('balance', {'series_type': 'line', 'color': '#555'}),\n",
    "      ]:\n",
    "        chart.add_data_set(f[col].values.tolist(), name=col, **opts)\n",
    "\n",
    "    return chart"
   ]
  },
  {
   "cell_type": "code",
   "execution_count": 18,
   "metadata": {
    "collapsed": false
   },
   "outputs": [
    {
     "name": "stdout",
     "output_type": "stream",
     "text": [
      "        date  credit  debit  balance\n",
      "0 2015-03-31    1552   1608      -56\n",
      "1 2015-06-30    1641   1478      107\n",
      "2 2015-09-30    1560   1616       51\n",
      "3 2015-12-31    1553   1472      132\n",
      "4 2016-03-31    1476   1620      -12\n",
      "5 2016-06-30    1351   1674     -335\n",
      "6 2016-09-30    1466   1428     -297\n",
      "7 2016-12-31    1670   1671     -298\n"
     ]
    },
    {
     "data": {
      "text/html": [
       "<iframe style=\"border:0;outline:none;overflow:hidden\" srcdoc=\"&lt;!DOCTYPE html&gt; &lt;html lang=&quot;en&quot;&gt; &lt;head&gt; &lt;meta charset=&quot;utf-8&quot; /&gt; &lt;link href=&quot;https://www.highcharts.com/highslide/highslide.css&quot; rel=&quot;stylesheet&quot; /&gt; &lt;script type=&quot;text/javascript&quot; src=&quot;https://ajax.googleapis.com/ajax/libs/jquery/1.9.1/jquery.min.js&quot;&gt;&lt;/script&gt; &lt;script type=&quot;text/javascript&quot; src=&quot;https://code.highcharts.com/highcharts.js&quot;&gt;&lt;/script&gt; &lt;script type=&quot;text/javascript&quot; src=&quot;https://code.highcharts.com/highcharts-more.js&quot;&gt;&lt;/script&gt; &lt;script type=&quot;text/javascript&quot; src=&quot;https://code.highcharts.com/modules/heatmap.js&quot;&gt;&lt;/script&gt; &lt;script type=&quot;text/javascript&quot; src=&quot;https://code.highcharts.com/modules/exporting.js&quot;&gt;&lt;/script&gt; &lt;/head&gt; &lt;body style=&quot;margin:0;padding:0&quot;&gt; &lt;div id=&quot;container&quot; style=&quot;width:700px;&quot;&gt;Loading....&lt;/div&gt; &lt;script&gt; $(function(){ Highcharts.setOptions({&quot;lang&quot;: {&quot;thousandsSep&quot;: &quot;,&quot;}, &quot;global&quot;: {}}); var option = {&quot;navigation&quot;: {}, &quot;colors&quot;: {}, &quot;labels&quot;: {}, &quot;xAxis&quot;: {&quot;type&quot;: &quot;category&quot;, &quot;categories&quot;: [&quot;2015-03-31&quot;, &quot;2015-06-30&quot;, &quot;2015-09-30&quot;, &quot;2015-12-31&quot;, &quot;2016-03-31&quot;, &quot;2016-06-30&quot;, &quot;2016-09-30&quot;, &quot;2016-12-31&quot;]}, &quot;yAxis&quot;: {&quot;title&quot;: {&quot;text&quot;: &quot;Money (NZD)&quot;}}, &quot;drilldown&quot;: {}, &quot;plotOptions&quot;: {&quot;column&quot;: {&quot;pointPadding&quot;: 0, &quot;borderColor&quot;: &quot;#333333&quot;, &quot;borderWidth&quot;: 1}}, &quot;chart&quot;: {&quot;width&quot;: 700, &quot;renderTo&quot;: &quot;container&quot;}, &quot;tooltip&quot;: {&quot;pointFormat&quot;: &quot;\\n &lt;tr&gt;\\n &lt;td style=\\&quot;padding-right:1em\\&quot;&gt;{series.name}&lt;/td&gt;\\n &lt;td style=\\&quot;text-align:right\\&quot;&gt;{point.y:,.0f} NZD\\n &lt;/td&gt;\\n &lt;/tr&gt;\\n &quot;, &quot;shared&quot;: true, &quot;headerFormat&quot;: &quot;&lt;b&gt;{point.key}&lt;/b&gt; (period start)&lt;table&gt;&quot;, &quot;useHTML&quot;: true}, &quot;loading&quot;: {}, &quot;title&quot;: {&quot;text&quot;: &quot;Account Summary&quot;}, &quot;subtitle&quot;: {}, &quot;pane&quot;: {}, &quot;exporting&quot;: {}, &quot;credits&quot;: {&quot;enabled&quot;: false}, &quot;series&quot;: {}, &quot;legend&quot;: {}}; var data = [{&quot;data&quot;: [1552, 1641, 1560, 1553, 1476, 1351, 1466, 1670], &quot;type&quot;: &quot;column&quot;, &quot;name&quot;: &quot;credit&quot;, &quot;color&quot;: &quot;#8da0cb&quot;}, {&quot;data&quot;: [1608, 1478, 1616, 1472, 1620, 1674, 1428, 1671], &quot;type&quot;: &quot;column&quot;, &quot;name&quot;: &quot;debit&quot;, &quot;color&quot;: &quot;#fc8d62&quot;}, {&quot;data&quot;: [-56, 107, 51, 132, -12, -335, -297, -298], &quot;type&quot;: &quot;line&quot;, &quot;name&quot;: &quot;balance&quot;, &quot;color&quot;: &quot;#555&quot;}]; option.series = data; var chart = new Highcharts.Chart(option); }); &lt;/script&gt; &lt;/body&gt; &lt;/html&gt;\" height=520 width=700></iframe>"
      ],
      "text/plain": [
       "<highcharts.highcharts.highcharts.Highchart at 0x1104a8908>"
      ]
     },
     "execution_count": 18,
     "metadata": {},
     "output_type": "execute_result"
    }
   ],
   "source": [
    "f = summarize(transactions, freq='Q')\n",
    "print(f)\n",
    "plot(f)\n"
   ]
  },
  {
   "cell_type": "code",
   "execution_count": null,
   "metadata": {
    "collapsed": true
   },
   "outputs": [],
   "source": []
  }
 ],
 "metadata": {
  "kernelspec": {
   "display_name": "Python 3",
   "language": "python",
   "name": "python3"
  },
  "language_info": {
   "codemirror_mode": {
    "name": "ipython",
    "version": 3
   },
   "file_extension": ".py",
   "mimetype": "text/x-python",
   "name": "python",
   "nbconvert_exporter": "python",
   "pygments_lexer": "ipython3",
   "version": "3.5.1"
  }
 },
 "nbformat": 4,
 "nbformat_minor": 0
}
