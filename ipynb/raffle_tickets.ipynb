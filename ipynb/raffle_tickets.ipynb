{
 "cells": [
  {
   "cell_type": "code",
   "execution_count": 50,
   "metadata": {
    "collapsed": false
   },
   "outputs": [],
   "source": [
    "from pathlib import Path\n",
    "\n",
    "from jinja2 import Template "
   ]
  },
  {
   "cell_type": "code",
   "execution_count": 85,
   "metadata": {
    "collapsed": false
   },
   "outputs": [],
   "source": [
    "# Make ticket template\n",
    "t = \"\"\"\n",
    "<html>\n",
    "  <head>\n",
    "    <style>\n",
    "        body {\n",
    "            font: 20px/1.4 Courier\n",
    "        }\n",
    "        table {width: 100%}\n",
    "        table, td {\n",
    "            font: inherit;\n",
    "        }\n",
    "        td {\n",
    "          padding: 20px;\n",
    "          border: 5px dashed #999;\n",
    "          }  \n",
    "        .tid {\n",
    "            font-weight: bold;\n",
    "            color: red;\n",
    "            }\n",
    "    </style>\n",
    "  </head>\n",
    "  <body>\n",
    "    <table>\n",
    "    {% for tid in ticket_ids %}\n",
    "        <tr>\n",
    "        <td>RAFFLE! RAFFLE! RAFFLE! <span class=\"tid\">{{tid}}</span></td>\n",
    "        <td>RAFFLE! RAFFLE! RAFFLE! <span class=\"tid\">{{tid}}</span></td>\n",
    "        </tr>\n",
    "    {% endfor %}\n",
    "    </table>\n",
    "  </body>\n",
    "</html>\n",
    "\"\"\"\n",
    "template = Template(t)\n",
    "\n",
    "# Print n tickets\n",
    "n = 162\n",
    "ticket_ids = ['{:03d}'.format(i) for i in range(n)]\n",
    "html = template.render(ticket_ids=ticket_ids)\n",
    "\n",
    "# Save to file\n",
    "p = Path('../output/raffle_tickets.html')\n",
    "with p.open('w') as tgt:\n",
    "    tgt.write(html)\n"
   ]
  },
  {
   "cell_type": "code",
   "execution_count": null,
   "metadata": {
    "collapsed": true
   },
   "outputs": [],
   "source": []
  }
 ],
 "metadata": {
  "kernelspec": {
   "display_name": "Python 3",
   "language": "python",
   "name": "python3"
  },
  "language_info": {
   "codemirror_mode": {
    "name": "ipython",
    "version": 3
   },
   "file_extension": ".py",
   "mimetype": "text/x-python",
   "name": "python",
   "nbconvert_exporter": "python",
   "pygments_lexer": "ipython3",
   "version": "3.5.1"
  }
 },
 "nbformat": 4,
 "nbformat_minor": 0
}
