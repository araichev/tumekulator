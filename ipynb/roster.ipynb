{
 "cells": [
  {
   "cell_type": "code",
   "execution_count": 2,
   "metadata": {
    "collapsed": true
   },
   "outputs": [],
   "source": [
    "import datetime as dt\n",
    "from dateutil.relativedelta import relativedelta\n",
    "\n",
    "import pandas as pd\n",
    "import numpy as np\n",
    "\n"
   ]
  },
  {
   "cell_type": "code",
   "execution_count": 3,
   "metadata": {
    "collapsed": false
   },
   "outputs": [],
   "source": [
    "WEEKDAY_NAMES_OPEN = ['Wednesday', 'Thursday', 'Sunday']\n",
    "VOLUNTEERS_BY_WEEKDAY_NAME = {\n",
    "    'Wednesday': ['Stephen', 'Sylvain', 'Andrew'],\n",
    "    'Thursday': ['Finlay', 'Sanna'],\n",
    "    'Sunday': ['Alex M', '__'],\n",
    "    }\n",
    "\n",
    "def build_roster(year, month, weekday_names_open=WEEKDAY_NAMES_OPEN, \n",
    "  volunteers_by_weekday_name=VOLUNTEERS_BY_WEEKDAY_NAME):\n",
    "    \"\"\"\n",
    "    INPUTS:\n",
    "    \n",
    "    - ``year``: integer\n",
    "    - ``month``: integer 1--12\n",
    "    \n",
    "    \n",
    "    OUTPUTS:\n",
    "    \n",
    "    A pandas data frame\n",
    "    \"\"\"\n",
    "    d1 = dt.date(year, month, 1)\n",
    "    d2 = d1 + relativedelta(months=1)\n",
    "    ix = pd.date_range(d1, d2, closed='left')\n",
    "    f = pd.DataFrame(index=ix)\n",
    "    f['date'] = f.index.strftime('%Y-%m-%d')\n",
    "    f['weekday'] = f.index.weekday_name\n",
    "    \n",
    "    # Assign volunteers\n",
    "    f['volunteers'] = f['weekday'].map(lambda x:\n",
    "      ' + '.join(volunteers_by_weekday_name.get(x, [\"__\", \"__\"])))\n",
    "    \n",
    "    # Restrict to given weekdays\n",
    "    cond = f['weekday'].isin(weekday_names_open)\n",
    "    f = f[cond].copy()\n",
    "    \n",
    "    # Add notes. \n",
    "    # Staff meeting is on the first Wednesday of the month.\n",
    "    f['notes'] = ''\n",
    "    cond = f['weekday'] == 'Wednesday'\n",
    "    cond &= f.index.day <= 7\n",
    "    f.loc[cond, 'notes'] = 'Staff meeting 19:30--20:30'\n",
    "    \n",
    "    return f.reset_index(drop=True)\n",
    "\n",
    "def get_year_month(roster, format=\"%Y%m\"):\n",
    "    \"\"\"\n",
    "    Given a roster, return the year and month it pertains to \n",
    "    in the given format.\n",
    "    \"\"\"\n",
    "    return pd.to_datetime(roster['date']).dt.strftime(format).iat[0]\n",
    "\n",
    "def to_markdown(df, path):\n",
    "    \"\"\"\n",
    "    Save the given data frame as a Markdown table located\n",
    "    at the given path.\n",
    "    \"\"\"\n",
    "    # Get column names\n",
    "    cols = df.columns\n",
    "\n",
    "    # Create a new DataFrame with just the markdown\n",
    "    # strings\n",
    "    df2 = pd.DataFrame([['---',]*len(cols)], columns=cols)\n",
    "\n",
    "    #Create a new concatenated DataFrame\n",
    "    df3 = pd.concat([df2, df])\n",
    "\n",
    "    #Save as markdown\n",
    "    df3.to_csv(path, sep=\"|\", index=False)\n"
   ]
  },
  {
   "cell_type": "code",
   "execution_count": 4,
   "metadata": {
    "collapsed": false,
    "scrolled": false
   },
   "outputs": [
    {
     "name": "stdout",
     "output_type": "stream",
     "text": [
      "          date    weekday                  volunteers  \\\n",
      "0   2016-11-02  Wednesday  Stephen + Sylvain + Andrew   \n",
      "1   2016-11-03   Thursday              Finlay + Sanna   \n",
      "2   2016-11-06     Sunday                 Alex M + __   \n",
      "3   2016-11-09  Wednesday  Stephen + Sylvain + Andrew   \n",
      "4   2016-11-10   Thursday              Finlay + Sanna   \n",
      "5   2016-11-13     Sunday                 Alex M + __   \n",
      "6   2016-11-16  Wednesday  Stephen + Sylvain + Andrew   \n",
      "7   2016-11-17   Thursday              Finlay + Sanna   \n",
      "8   2016-11-20     Sunday                 Alex M + __   \n",
      "9   2016-11-23  Wednesday  Stephen + Sylvain + Andrew   \n",
      "10  2016-11-24   Thursday              Finlay + Sanna   \n",
      "11  2016-11-27     Sunday                 Alex M + __   \n",
      "12  2016-11-30  Wednesday  Stephen + Sylvain + Andrew   \n",
      "\n",
      "                         notes  \n",
      "0   Staff meeting 19:30--20:30  \n",
      "1                               \n",
      "2                               \n",
      "3                               \n",
      "4                               \n",
      "5                               \n",
      "6                               \n",
      "7                               \n",
      "8                               \n",
      "9                               \n",
      "10                              \n",
      "11                              \n",
      "12                              \n"
     ]
    }
   ],
   "source": [
    "roster = build_roster(2016, 11)\n",
    "print(roster)\n",
    "\n",
    "date = get_year_month(roster)\n",
    "path = 'roster_{!s}.md'.format(date)\n",
    "to_markdown(roster, path)"
   ]
  },
  {
   "cell_type": "code",
   "execution_count": null,
   "metadata": {
    "collapsed": true
   },
   "outputs": [],
   "source": []
  }
 ],
 "metadata": {
  "kernelspec": {
   "display_name": "Python 3",
   "language": "python",
   "name": "python3"
  },
  "language_info": {
   "codemirror_mode": {
    "name": "ipython",
    "version": 3
   },
   "file_extension": ".py",
   "mimetype": "text/x-python",
   "name": "python",
   "nbconvert_exporter": "python",
   "pygments_lexer": "ipython3",
   "version": "3.4.3"
  }
 },
 "nbformat": 4,
 "nbformat_minor": 0
}
