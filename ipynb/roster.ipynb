{
 "cells": [
  {
   "cell_type": "code",
   "execution_count": 36,
   "metadata": {
    "collapsed": true
   },
   "outputs": [],
   "source": [
    "from pathlib import Path\n",
    "import datetime as dt\n",
    "from dateutil.relativedelta import relativedelta\n",
    "\n",
    "import pandas as pd\n",
    "import numpy as np\n",
    "\n",
    "OUT_DIR = Path('../output')"
   ]
  },
  {
   "cell_type": "code",
   "execution_count": 37,
   "metadata": {
    "collapsed": false
   },
   "outputs": [],
   "source": [
    "WEEKDAYS_OPEN = ['Wednesday', 'Thursday', 'Sunday']\n",
    "VOLUNTEERS_BY_WEEKDAY = {\n",
    "    'Wednesday': ['__', '__'],\n",
    "    'Thursday': ['Finlay', 'Sanna'],\n",
    "    'Sunday': ['Alex M', '__'],\n",
    "    }\n",
    "MEETING_TIME = ('Sunday', 2, '13:30', '15:30')\n",
    "#MEETING_TIME = ('Wednesday', 1, '17:30', '19:30')\n",
    "\n",
    "def build_roster(year, month, weekdays_open=WEEKDAYS_OPEN, \n",
    "  volunteers_by_weekday=VOLUNTEERS_BY_WEEKDAY, meeting_time=MEETING_TIME):\n",
    "    \"\"\"\n",
    "    INPUTS:\n",
    "    \n",
    "    - ``year``: integer\n",
    "    - ``month``: integer 1--12\n",
    "    \n",
    "    \n",
    "    OUTPUTS:\n",
    "    \n",
    "    A pandas data frame\n",
    "    \"\"\"\n",
    "    d1 = dt.date(year, month, 1)\n",
    "    d2 = d1 + relativedelta(months=1)\n",
    "    ix = pd.date_range(d1, d2, closed='left')\n",
    "    f = pd.DataFrame(index=ix)\n",
    "    f['date'] = f.index.strftime('%Y-%m-%d')\n",
    "    f['weekday'] = f.index.weekday_name\n",
    "    \n",
    "    # Assign volunteers\n",
    "    f['volunteers'] = f['weekday'].map(lambda x:\n",
    "      ' + '.join(volunteers_by_weekday.get(x, [\"__\", \"__\"])))\n",
    "    \n",
    "    # Restrict to given weekdays\n",
    "    cond = f['weekday'].isin(weekdays_open)\n",
    "    f = f[cond].copy()\n",
    "    \n",
    "    # Add notes, including staff meeting.\n",
    "    f['notes'] = ''\n",
    "    cond = f['weekday'] == meeting_time[0]\n",
    "    cond &= f.index.day >= 7*(meeting_time[1] - 1)\n",
    "    cond &= f.index.day <= 7*meeting_time[1]\n",
    "    f.loc[cond, 'notes'] = 'Staff meeting {!s}--{!s}'.format(*meeting_time[2:])\n",
    "    \n",
    "    return f.reset_index(drop=True)\n",
    "\n",
    "def get_year_month(roster, format=\"%Y%m\"):\n",
    "    \"\"\"\n",
    "    Given a roster, return the year and month it pertains to \n",
    "    in the given format.\n",
    "    \"\"\"\n",
    "    return pd.to_datetime(roster['date']).dt.strftime(format).iat[0]\n",
    "\n",
    "def to_markdown(df, path):\n",
    "    \"\"\"\n",
    "    Save the given data frame as a Markdown table located\n",
    "    at the given path.\n",
    "    \"\"\"\n",
    "    path = Path(path)\n",
    "    \n",
    "    # Get column names\n",
    "    cols = df.columns\n",
    "\n",
    "    # Create a new DataFrame with just the markdown\n",
    "    # strings\n",
    "    df2 = pd.DataFrame([['---',]*len(cols)], columns=cols)\n",
    "\n",
    "    #Create a new concatenated DataFrame\n",
    "    df3 = pd.concat([df2, df])\n",
    "\n",
    "    #Save as markdown\n",
    "    df3.to_csv(str(path), sep=\"|\", index=False)\n"
   ]
  },
  {
   "cell_type": "code",
   "execution_count": 38,
   "metadata": {
    "collapsed": false,
    "scrolled": false
   },
   "outputs": [
    {
     "name": "stdout",
     "output_type": "stream",
     "text": [
      "          date    weekday      volunteers                       notes\n",
      "0   2016-12-01   Thursday  Finlay + Sanna                            \n",
      "1   2016-12-04     Sunday     Alex M + __                            \n",
      "2   2016-12-07  Wednesday         __ + __                            \n",
      "3   2016-12-08   Thursday  Finlay + Sanna                            \n",
      "4   2016-12-11     Sunday     Alex M + __  Staff meeting 13:30--15:30\n",
      "5   2016-12-14  Wednesday         __ + __                            \n",
      "6   2016-12-15   Thursday  Finlay + Sanna                            \n",
      "7   2016-12-18     Sunday     Alex M + __                            \n",
      "8   2016-12-21  Wednesday         __ + __                            \n",
      "9   2016-12-22   Thursday  Finlay + Sanna                            \n",
      "10  2016-12-25     Sunday     Alex M + __                            \n",
      "11  2016-12-28  Wednesday         __ + __                            \n",
      "12  2016-12-29   Thursday  Finlay + Sanna                            \n"
     ]
    }
   ],
   "source": [
    "roster = build_roster(2016, 12)\n",
    "print(roster)\n",
    "\n",
    "date = get_year_month(roster)\n",
    "path = OUT_DIR/'roster_{!s}.md'.format(date)\n",
    "to_markdown(roster, path)"
   ]
  },
  {
   "cell_type": "code",
   "execution_count": null,
   "metadata": {
    "collapsed": true
   },
   "outputs": [],
   "source": []
  },
  {
   "cell_type": "code",
   "execution_count": null,
   "metadata": {
    "collapsed": true
   },
   "outputs": [],
   "source": []
  }
 ],
 "metadata": {
  "kernelspec": {
   "display_name": "Python 3",
   "language": "python",
   "name": "python3"
  },
  "language_info": {
   "codemirror_mode": {
    "name": "ipython",
    "version": 3
   },
   "file_extension": ".py",
   "mimetype": "text/x-python",
   "name": "python",
   "nbconvert_exporter": "python",
   "pygments_lexer": "ipython3",
   "version": "3.4.3"
  }
 },
 "nbformat": 4,
 "nbformat_minor": 0
}
